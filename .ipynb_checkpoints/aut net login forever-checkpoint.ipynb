{
 "cells": [
  {
   "cell_type": "code",
   "execution_count": 1,
   "id": "cfbd0623",
   "metadata": {},
   "outputs": [],
   "source": [
    "import requests\n",
    "from selenium import webdriver\n",
    "from selenium.webdriver.common.by import By\n",
    "import time"
   ]
  },
  {
   "cell_type": "code",
   "execution_count": null,
   "id": "70746d23",
   "metadata": {},
   "outputs": [],
   "source": [
    "while(True):\n",
    "    driver = webdriver.Chrome()\n",
    "    driver.get('https://internet.aut.ac.ir/')\n",
    "\n",
    "    if 'status' not in driver.current_url:\n",
    "        driver.implicitly_wait(20)\n",
    "        user_el = driver.find_element(By.XPATH,'//*[@id=\"internetform\"]/div[1]/div/input')\n",
    "        user_el.send_keys('morvaridlalenoor')\n",
    "        pass_el = driver.find_element(By.XPATH,'//*[@id=\"internetform\"]/div[2]/input')\n",
    "        pass_el.send_keys('hhdbL7arx5')\n",
    "        driver.find_element(By.ID,'internetbutton').click()\n",
    "    driver.quit()\n",
    "    time.sleep(2*60*60)"
   ]
  },
  {
   "cell_type": "code",
   "execution_count": null,
   "id": "47f88b20",
   "metadata": {},
   "outputs": [],
   "source": []
  }
 ],
 "metadata": {
  "kernelspec": {
   "display_name": "Python 3 (ipykernel)",
   "language": "python",
   "name": "python3"
  },
  "language_info": {
   "codemirror_mode": {
    "name": "ipython",
    "version": 3
   },
   "file_extension": ".py",
   "mimetype": "text/x-python",
   "name": "python",
   "nbconvert_exporter": "python",
   "pygments_lexer": "ipython3",
   "version": "3.9.7"
  }
 },
 "nbformat": 4,
 "nbformat_minor": 5
}
